{
  "cells": [
    {
      "cell_type": "markdown",
      "metadata": {},
      "source": [
        "# Part I\n",
        "## loading dataset and installing tools"
      ]
    },
    {
      "cell_type": "code",
      "execution_count": null,
      "metadata": {
        "colab": {
          "base_uri": "https://localhost:8080/"
        },
        "id": "DR4sVxjiZ_ev",
        "outputId": "bf8baf78-0709-40c1-f0c8-ef525cbbef93"
      },
      "outputs": [],
      "source": [
        "import os # Operating System API \n",
        "\n",
        "if not os.path.exists('./data'):\n",
        "    !gdown 1cBV6at_F2mPWIXKnRT1AQKSySZX7bnT3 # download DEAP dataset\n",
        "    !unzip -o /data.zip -d ./ # unzip archive\n",
        "\n",
        "import numpy as np # linear programming operations\n",
        "import pandas as pd # data manipulation and preprocessing\n",
        "import matplotlib.pyplot as plt # for plotting and data visualization\n",
        "import torch # pytorch for Deep Learning\n",
        "import torch.nn as nn # neural network module\n",
        "import torch.nn.functional as F # functional module\n",
        "import torch.optim as optim # model optimzer module\n",
        "from sklearn.decomposition import PCA #PCA\n",
        "import pywt # Wavelet Transform"
      ]
    },
    {
      "cell_type": "code",
      "execution_count": null,
      "metadata": {
        "id": "MoFxQr37aECP"
      },
      "outputs": [],
      "source": [
        "DEAP = [pd.read_pickle(f\"./data/s{i}.dat\") for i in range(1,33)]"
      ]
    },
    {
      "cell_type": "code",
      "execution_count": null,
      "metadata": {
        "id": "b0dfOBlBbsVy"
      },
      "outputs": [],
      "source": [
        "data = [DEAP[i]['data'] for i in range(0,32)]\n",
        "# data: 32 Subjects x 40 Trials (63 secs each with first 3 secs removed) x 40 Data rows (including 32 EEG channels) x 8064 (Timeseries data downsampled to 128 Hz amd EOG-filtered with bandpass filter of (4-45 Hz) average to common reference)\n",
        "labels = [DEAP[i]['labels'] for i in range(0,32)]\n",
        "# lables: 32 Subjects x 40 Trials x 4 Ratings (Valence,Arousal,Dominance,Liking)"
      ]
    },
    {
      "cell_type": "code",
      "execution_count": null,
      "metadata": {
        "id": "BZ_taPiWc5jX"
      },
      "outputs": [],
      "source": [
        "processed_data = []\n",
        "\n",
        "for subject in data:\n",
        "    subject_processed = []\n",
        "    for trial in subject:\n",
        "        # Convert each trial (40x8064) to a Pandas DataFrame\n",
        "        df_trial = pd.DataFrame(trial)\n",
        "\n",
        "        # Drop the last 8 rows (We only need the 32 EEG channels)\n",
        "        df_trial_dropped = df_trial.iloc[:-8]\n",
        "\n",
        "        # Append the processed trial as a NumPy array\n",
        "        subject_processed.append(df_trial_dropped.to_numpy())\n",
        "\n",
        "    # Add processed subject to the list\n",
        "    processed_data.append(subject_processed)"
      ]
    },
    {
      "cell_type": "code",
      "execution_count": null,
      "metadata": {
        "id": "TFVqvEV9gXXz"
      },
      "outputs": [],
      "source": [
        "processed_data_flattened = [trial for subject in processed_data for trial in subject]\n",
        "labels_flattened = [trial for subject_labels in labels for trial in subject_labels]"
      ]
    },
    {
      "cell_type": "code",
      "execution_count": null,
      "metadata": {
        "colab": {
          "base_uri": "https://localhost:8080/"
        },
        "id": "x_W5CdREXMwL",
        "outputId": "b6950ee2-b3bc-44ca-f180-75731c09ec92"
      },
      "outputs": [
        {
          "name": "stdout",
          "output_type": "stream",
          "text": [
            "1280 \n",
            " (32, 8064)\n"
          ]
        }
      ],
      "source": [
        "print(len(processed_data_flattened),\"\\n\", processed_data_flattened[0].shape)\n"
      ]
    },
    {
      "cell_type": "code",
      "execution_count": null,
      "metadata": {
        "id": "NpOpe7fTzHWz"
      },
      "outputs": [],
      "source": [
        "# Concatenate all trials to create a single DataFrame\n",
        "eeg_signal_names = [\n",
        "    \"Fp1\", \"AF3\", \"F3\", \"F7\", \"FC5\", \"FC1\", \"C3\", \"T7\", \"CP5\", \"CP1\",\n",
        "    \"P3\", \"P7\", \"PO3\", \"O1\", \"Oz\", \"Pz\", \"Fp2\", \"AF4\", \"Fz\", \"F4\",\n",
        "    \"F8\", \"FC6\", \"FC2\", \"Cz\", \"C4\", \"T8\", \"CP6\", \"CP2\", \"P4\", \"P8\",\n",
        "    \"PO4\", \"O2\"\n",
        "]\n",
        "processed_data_df_list = [pd.DataFrame(trial) for trial in processed_data_flattened]\n",
        "for i in range(len(processed_data_df_list)):\n",
        "    processed_data_df_list[i] = processed_data_df_list[i].transpose()\n",
        "# Convert labels_flattened to a DataFrame\n",
        "labels_df = pd.DataFrame(labels_flattened, columns=['Valence', 'Arousal', 'Dominance', 'Liking'])"
      ]
    },
    {
      "cell_type": "code",
      "execution_count": null,
      "metadata": {
        "colab": {
          "base_uri": "https://localhost:8080/"
        },
        "id": "K4UJW8LW2oWQ",
        "outputId": "f63692d3-94b0-49a9-bbfe-4a062a3c6abb"
      },
      "outputs": [
        {
          "data": {
            "text/plain": [
              "1280"
            ]
          },
          "execution_count": 11,
          "metadata": {},
          "output_type": "execute_result"
        }
      ],
      "source": [
        "len(processed_data_df_list)"
      ]
    },
    {
      "cell_type": "code",
      "execution_count": null,
      "metadata": {
        "colab": {
          "base_uri": "https://localhost:8080/"
        },
        "id": "N51dsDiWz41t",
        "outputId": "221a2442-c997-4a22-d189-17b1c3f4c6fe"
      },
      "outputs": [
        {
          "data": {
            "text/plain": [
              "(8064, 32)"
            ]
          },
          "execution_count": 12,
          "metadata": {},
          "output_type": "execute_result"
        }
      ],
      "source": [
        "processed_data_df_list[0].shape"
      ]
    },
    {
      "cell_type": "code",
      "execution_count": null,
      "metadata": {
        "colab": {
          "base_uri": "https://localhost:8080/"
        },
        "id": "vRgCawj81D9F",
        "outputId": "61019890-986f-4029-99d3-827532679d91"
      },
      "outputs": [
        {
          "data": {
            "text/plain": [
              "(1280, 4)"
            ]
          },
          "execution_count": 13,
          "metadata": {},
          "output_type": "execute_result"
        }
      ],
      "source": [
        "labels_df.shape"
      ]
    },
    {
      "cell_type": "code",
      "execution_count": null,
      "metadata": {
        "id": "P87WBIj32lKT"
      },
      "outputs": [],
      "source": [
        "pca = PCA(n_components=16)\n",
        "for i in range(len(processed_data_df_list)):\n",
        "  processed_data_df_list[i] = pca.fit_transform(processed_data_df_list[i])\n",
        "data = np.array(processed_data_df_list)"
      ]
    },
    {
      "cell_type": "code",
      "execution_count": null,
      "metadata": {
        "colab": {
          "base_uri": "https://localhost:8080/"
        },
        "id": "7VQx-hMj38eN",
        "outputId": "3043c960-1937-4286-a868-a0f0790a5c68"
      },
      "outputs": [
        {
          "data": {
            "text/plain": [
              "(1280, 8064, 16)"
            ]
          },
          "execution_count": 15,
          "metadata": {},
          "output_type": "execute_result"
        }
      ],
      "source": [
        "data.shape"
      ]
    },
    {
      "cell_type": "code",
      "execution_count": null,
      "metadata": {
        "colab": {
          "base_uri": "https://localhost:8080/"
        },
        "id": "gmQfdo4Oqc59",
        "outputId": "990bb8f1-c0a6-41ec-acd9-61a35a76d698"
      },
      "outputs": [
        {
          "name": "stderr",
          "output_type": "stream",
          "text": [
            "/usr/local/lib/python3.10/dist-packages/pywt/_cwt.py:117: FutureWarning: Wavelets from the family cmor, without parameters specified in the name are deprecated. The name should takethe form cmorB-C where B and C are floats representing the bandwidth frequency and center frequency, respectively (example: cmor1.5-1.0).\n",
            "  wavelet = DiscreteContinuousWavelet(wavelet)\n"
          ]
        }
      ],
      "source": [
        "scales = np.arange(1, 128)  # freq range\n",
        "sampling_frequency = 128  # 128 Hz for DEAP\n",
        "output_dir = \"scalograms\" # Save for later use\n",
        "os.makedirs(output_dir, exist_ok=True)\n",
        "\n",
        "# Perform CWT and store scalograms\n",
        "for trial in range(0,1281):\n",
        "    trial_scalograms = []\n",
        "    for channel in range(0,16): # 16 PCs\n",
        "        signal = data[trial, :, channel] # Extract single trial-channel data\n",
        "        coef, freqs = pywt.cwt(signal, scales, 'cmor', sampling_period=1/sampling_frequency) # CWT\n",
        "        scalogram = np.abs(coef) ** 2\n",
        "        # Save the scalogram as a .npy file\n",
        "        filename = f\"scalogram_trial{trial}_channel{channel}.png\"\n",
        "        filepath = os.path.join(output_dir, filename)\n",
        "        # Save using a dedicated figure to ensure proper scaling\n",
        "        plt.figure(figsize=(12, 6))  # Adjust figure size for better resolution\n",
        "        plt.imshow(scalogram, extent=[0, 8064, freqs[-1], freqs[0]], aspect='auto', cmap='jet')\n",
        "        plt.axis('off')  # No axes\n",
        "        plt.tight_layout(pad=0)\n",
        "        plt.savefig(filepath, bbox_inches='tight', pad_inches=0)\n",
        "        plt.close()  # Close the figure to free memory\n",
        "        print(f\"Saved scalograms for Trial {trial + 1} and Channel {channel + 1}\")\n",
        "\n",
        "    # (Optional) Save trial-level scalograms if needed\n",
        "    # trial_filename = f\"scalograms_trial{trial}.npy\"\n",
        "    # trial_filepath = os.path.join(output_dir, trial_filename)\n",
        "    # np.save(trial_filepath, trial_scalograms)\n"
      ]
    }
  ],
  "metadata": {
    "colab": {
      "provenance": []
    },
    "kernelspec": {
      "display_name": ".venv",
      "language": "python",
      "name": "python3"
    },
    "language_info": {
      "name": "python",
      "version": "3.9.0"
    }
  },
  "nbformat": 4,
  "nbformat_minor": 0
}
